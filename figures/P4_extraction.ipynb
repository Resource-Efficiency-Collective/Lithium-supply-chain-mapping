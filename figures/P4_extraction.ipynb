{
 "cells": [
  {
   "cell_type": "code",
   "execution_count": null,
   "id": "initial_id",
   "metadata": {
    "ExecuteTime": {
     "end_time": "2025-03-10T12:46:21.497826Z",
     "start_time": "2025-03-10T12:46:21.494307Z"
    },
    "collapsed": true
   },
   "outputs": [],
   "source": [
    "import os\n",
    "import sys\n",
    "\n",
    "# Add project root to Python path\n",
    "project_root = os.path.abspath(os.path.join(os.getcwd(), \"..\"))\n",
    "if project_root not in sys.path:\n",
    "    sys.path.insert(0, project_root)\n",
    "\n",
    "\n",
    "import ast\n",
    "\n",
    "import numpy as np\n",
    "\n",
    "\n",
    "from utils.gcloud_utilities import *\n",
    "\n",
    "from utils.metadata import *\n",
    "\n",
    "from utils.preprocessing_utilities import (\n",
    "    import_operating_nodes,\n",
    "    expand_parameters_col_and_format,\n",
    ")"
   ]
  },
  {
   "cell_type": "code",
   "execution_count": null,
   "id": "dd7310f02cb9179e",
   "metadata": {
    "ExecuteTime": {
     "end_time": "2025-03-10T12:46:24.146922Z",
     "start_time": "2025-03-10T12:46:21.780505Z"
    }
   },
   "outputs": [
    {
     "name": "stderr",
     "output_type": "stream",
     "text": [
      "\u001b[32m2025-05-10 16:33:30.849\u001b[0m | \u001b[1mINFO    \u001b[0m | \u001b[36mutils.gcloud_utilities\u001b[0m:\u001b[36mfetch_gcs_bucket\u001b[0m:\u001b[36m16\u001b[0m - \u001b[1mFetching GCS bucket: lithium-datasets in project: critical-minerals'\u001b[0m\n",
      "c:\\Users\\bapti\\OneDrive - University of Cambridge\\Documents\\critical-minerals\\.venv\\Lib\\site-packages\\google\\auth\\_default.py:76: UserWarning: Your application has authenticated using end user credentials from Google Cloud SDK without a quota project. You might receive a \"quota exceeded\" or \"API not enabled\" error. See the following page for troubleshooting: https://cloud.google.com/docs/authentication/adc-troubleshooting/user-creds. \n",
      "  warnings.warn(_CLOUD_SDK_CREDENTIALS_WARNING)\n",
      "\u001b[32m2025-05-10 16:33:33.577\u001b[0m | \u001b[1mINFO    \u001b[0m | \u001b[36mutils.gcloud_utilities\u001b[0m:\u001b[36mpull_from_gcs_csv\u001b[0m:\u001b[36m27\u001b[0m - \u001b[1mPulling data from preprocessed/benchmark/benchmark_nodes.csv in bucket lithium-datasets\u001b[0m\n",
      "\u001b[32m2025-05-10 16:33:35.338\u001b[0m | \u001b[1mINFO    \u001b[0m | \u001b[36mutils.gcloud_utilities\u001b[0m:\u001b[36mpull_from_gcs_csv\u001b[0m:\u001b[36m27\u001b[0m - \u001b[1mPulling data from preprocessed/benchmark/endUse_nodes.csv in bucket lithium-datasets\u001b[0m\n",
      "\u001b[32m2025-05-10 16:33:35.494\u001b[0m | \u001b[1mINFO    \u001b[0m | \u001b[36mutils.gcloud_utilities\u001b[0m:\u001b[36mpull_from_gcs_csv\u001b[0m:\u001b[36m27\u001b[0m - \u001b[1mPulling data from preprocessed/benchmark/edge_creation/benchmark_combined_edges.csv in bucket lithium-datasets\u001b[0m\n"
     ]
    }
   ],
   "source": [
    "year = \"2023\"\n",
    "\n",
    "# Load data\n",
    "bucket, nodes = import_operating_nodes(year)\n",
    "endUse_nodes = pull_from_gcs_csv(\n",
    "    bucket, GCLOUD_PREPROCESSED_DIR + BENCHMARK_PREPROCESSED_DIR + \"endUse_nodes.csv\"\n",
    ")\n",
    "\n",
    "edges = pull_from_gcs_csv(\n",
    "    bucket,\n",
    "    GCLOUD_PREPROCESSED_DIR\n",
    "    + BENCHMARK_PREPROCESSED_DIR\n",
    "    + BENCHMARK_EDGES_DIR\n",
    "    + BENCHMARK_EDGES_FILE,\n",
    ")\n",
    "\n",
    "edges[\"properties\"] = edges[\"properties\"].astype(str).apply(ast.literal_eval)\n",
    "dict_df = pd.json_normalize(edges[\"properties\"])\n",
    "edges = edges.drop(columns=[\"properties\"]).join(dict_df)\n",
    "\n",
    "nodes_df = pd.concat((nodes, endUse_nodes))\n",
    "\n",
    "nodes_df[\"type\"] = (\n",
    "    nodes_df[\"mine_type\"]\n",
    "    .fillna(nodes_df[\"process_type\"])\n",
    "    .fillna(nodes_df[\"product_type\"])\n",
    ")\n",
    "nodes_df[\"country\"] = nodes_df[\"country\"].fillna(nodes_df[\"region\"])\n",
    "nodes_df[\"company\"] = nodes_df[\"company\"].fillna(nodes_df[\"operator_short_clean\"])\n",
    "\n",
    "stages_dict = {\n",
    "    \"mining\": [\"Brine\", \"Spodumene\", \"Mica\", \"Pegmatite\"],\n",
    "    \"carbonate\": [\"Lithium Carbonate\"],\n",
    "    \"hydroxide\": [\"Lithium Hydroxide\"],\n",
    "    \"cathode\": [\n",
    "        \"NCM mid nickel\",\n",
    "        \"LFP\",\n",
    "        \"4V Ni or Mn based\",\n",
    "        \"NCA\",\n",
    "        \"NCM high nickel\",\n",
    "        \"LCO\",\n",
    "        \"NCM low nickel\",\n",
    "        \"5V Mn based\",\n",
    "    ],\n",
    "    \"battery\": [\n",
    "        \"Cylindrical\",\n",
    "        \"Pouch\",\n",
    "        \"Cylindrical, Pouch\",\n",
    "        \"Pouch, Prismatic\",\n",
    "        \"Prismatic\",\n",
    "        \"Cylindrical, Prismatic\",\n",
    "        \"Cylindrical, Pouch, Prismatic\",\n",
    "    ],\n",
    "    \"end_use\": [\"EV\", \"ESS\", \"Portable\"],\n",
    "}\n",
    "\n",
    "nodes_df[\"stage\"] = nodes_df[\"type\"].map(\n",
    "    {item: cat for cat, items in stages_dict.items() for item in items}\n",
    ")\n",
    "\n",
    "# nodes_df = nodes_df.dropna(subset=['stage'])"
   ]
  },
  {
   "cell_type": "code",
   "execution_count": null,
   "id": "230cf7eb0e421769",
   "metadata": {
    "ExecuteTime": {
     "end_time": "2025-03-10T14:52:28.633945Z",
     "start_time": "2025-03-10T14:52:28.584611Z"
    }
   },
   "outputs": [],
   "source": [
    "inputs = edges.merge(\n",
    "    nodes_df[[\"node_id\", \"type\", \"stage\", \"country\", \"company\", \"name\"]],\n",
    "    left_on=[\"source\", \"edge_type\"],\n",
    "    right_on=[\"node_id\", \"type\"],\n",
    "    how=\"left\",\n",
    ")\n",
    "outputs = inputs[\n",
    "    [\n",
    "        \"stage\",\n",
    "        \"type\",\n",
    "        \"source\",\n",
    "        \"target\",\n",
    "        \"2023_volume\",\n",
    "        \"edge_type\",\n",
    "        \"edge_destination\",\n",
    "        \"country\",\n",
    "        \"company\",\n",
    "        \"name\",\n",
    "    ]\n",
    "].merge(\n",
    "    nodes_df[[\"node_id\", \"stage\", \"type\", \"country\", \"company\", \"name\"]],\n",
    "    left_on=\"target\",\n",
    "    right_on=\"node_id\",\n",
    "    how=\"left\",\n",
    "    suffixes=(\"_source\", \"_target\"),\n",
    ")\n",
    "outputs = outputs[\n",
    "    (outputs[\"edge_destination\"].isna())\n",
    "    | (outputs[\"edge_destination\"] == outputs[\"type_target\"])\n",
    "]"
   ]
  },
  {
   "cell_type": "code",
   "execution_count": 4,
   "id": "133b3a4177895e36",
   "metadata": {
    "ExecuteTime": {
     "end_time": "2025-03-10T14:52:28.950776Z",
     "start_time": "2025-03-10T14:52:28.949027Z"
    }
   },
   "outputs": [],
   "source": [
    "final_node = 1469"
   ]
  },
  {
   "cell_type": "code",
   "execution_count": null,
   "id": "a724bffd63dbd196",
   "metadata": {
    "ExecuteTime": {
     "end_time": "2025-03-10T14:52:29.341014Z",
     "start_time": "2025-03-10T14:52:29.335618Z"
    }
   },
   "outputs": [],
   "source": [
    "suppliers = outputs[outputs[\"target\"] == final_node].sort_values(\n",
    "    \"2023_volume\", ascending=False\n",
    ")\n",
    "total_buyer_flow = (\n",
    "    suppliers.groupby([\"edge_type\"])\n",
    "    .sum()\n",
    "    .reset_index()[[\"edge_type\", \"2023_volume\"]]\n",
    "    .rename(columns={\"2023_volume\": \"max_buyer_flow (t)\"})\n",
    ")\n",
    "suppliers = suppliers.merge(total_buyer_flow, on=\"edge_type\", how=\"left\")"
   ]
  },
  {
   "cell_type": "code",
   "execution_count": null,
   "id": "153a985022efcfc9",
   "metadata": {
    "ExecuteTime": {
     "end_time": "2025-03-10T14:52:30.381010Z",
     "start_time": "2025-03-10T14:52:30.256814Z"
    }
   },
   "outputs": [],
   "source": [
    "uk_upstream_node = 631\n",
    "uk_exp = outputs[outputs[\"source\"] == uk_upstream_node]\n",
    "uk_orig = uk_exp[[i in suppliers[\"source\"].values for i in uk_exp[\"target\"]]]\n",
    "uk_orig = uk_orig[[\"target\", \"edge_destination\", \"2023_volume\"]]\n",
    "\n",
    "total_orig = (\n",
    "    outputs[[i in suppliers[\"source\"].values for i in outputs[\"target\"]]]\n",
    "    .groupby([\"target\", \"edge_destination\"])\n",
    "    .sum()\n",
    "    .reset_index()[[\"target\", \"edge_destination\", \"2023_volume\"]]\n",
    ")\n",
    "\n",
    "uk_orig_perc = uk_orig.merge(total_orig, on=[\"target\", \"edge_destination\"], how=\"left\")\n",
    "uk_orig_perc[\"perc_flow\"] = (\n",
    "    uk_orig_perc[\"2023_volume_x\"] / uk_orig_perc[\"2023_volume_y\"]\n",
    ")\n",
    "\n",
    "china_uk_flow = outputs[outputs[\"target\"] == uk_upstream_node]\n",
    "china_perc_imports = (\n",
    "    china_uk_flow[china_uk_flow[\"country_source\"] == \"CHN\"][\"2023_volume\"].sum()\n",
    "    / china_uk_flow[\"2023_volume\"].sum()\n",
    ")\n",
    "\n",
    "uk_orig_perc[\"CNUK_flow_proportion\"] = uk_orig_perc[\"perc_flow\"] * china_perc_imports\n",
    "uk_orig_perc = uk_orig_perc[[\"target\", \"edge_destination\", \"CNUK_flow_proportion\"]]\n",
    "\n",
    "suppliers = suppliers.merge(\n",
    "    uk_orig_perc,\n",
    "    left_on=[\"source\", \"edge_type\"],\n",
    "    right_on=[\"target\", \"edge_destination\"],\n",
    "    how=\"left\",\n",
    ")\n",
    "suppliers[\"CNUK_flow_proportion\"] = suppliers[\"CNUK_flow_proportion\"].fillna(0)\n",
    "suppliers.drop(columns=[\"target_y\", \"edge_destination_y\"], inplace=True)"
   ]
  },
  {
   "cell_type": "code",
   "execution_count": null,
   "id": "6873479d8648e646",
   "metadata": {
    "ExecuteTime": {
     "end_time": "2025-03-10T14:52:31.133651Z",
     "start_time": "2025-03-10T14:52:30.917815Z"
    }
   },
   "outputs": [],
   "source": [
    "top_competitor = outputs[\n",
    "    [i in suppliers[\"source\"].values for i in outputs[\"source\"]]\n",
    "].sort_values([\"source\", \"type_source\", \"2023_volume\"], ascending=False)\n",
    "top_competitor = top_competitor[top_competitor[\"target\"] != final_node].drop_duplicates(\n",
    "    subset=[\"source\", \"type_source\"]\n",
    ")\n",
    "top_possible_competitors = (\n",
    "    outputs[[i in top_competitor[\"target\"].values for i in outputs[\"target\"]]]\n",
    "    .groupby([\"target\", \"edge_type\"])\n",
    "    .sum()\n",
    "    .reset_index()[[\"target\", \"edge_type\", \"2023_volume\"]]\n",
    "    .rename(columns={\"2023_volume\": \"max_competitor_flow (t)\"})\n",
    ")\n",
    "top_competitor = top_competitor.merge(\n",
    "    top_possible_competitors, on=[\"target\", \"edge_type\"], how=\"left\"\n",
    ")"
   ]
  },
  {
   "cell_type": "code",
   "execution_count": null,
   "id": "bc1dda92535cfcc9",
   "metadata": {
    "ExecuteTime": {
     "end_time": "2025-03-10T14:52:31.407617Z",
     "start_time": "2025-03-10T14:52:31.301408Z"
    }
   },
   "outputs": [],
   "source": [
    "total_flow = (\n",
    "    outputs[[\"source\", \"edge_type\", \"2023_volume\"]][\n",
    "        [i in suppliers[\"source\"].values for i in outputs[\"source\"]]\n",
    "    ]\n",
    "    .groupby([\"source\", \"edge_type\"])\n",
    "    .sum()\n",
    "    .reset_index()\n",
    ")"
   ]
  },
  {
   "cell_type": "code",
   "execution_count": null,
   "id": "6a018418498a5b15",
   "metadata": {
    "ExecuteTime": {
     "end_time": "2025-03-10T14:52:31.857794Z",
     "start_time": "2025-03-10T14:52:31.849915Z"
    }
   },
   "outputs": [],
   "source": [
    "company_summary = suppliers.merge(\n",
    "    top_competitor, on=[\"source\", \"edge_type\"], how=\"left\"\n",
    ")\n",
    "company_summary = company_summary.merge(\n",
    "    total_flow, on=[\"source\", \"edge_type\"], how=\"left\"\n",
    ")\n",
    "\n",
    "company_summary = company_summary[\n",
    "    [\n",
    "        \"stage_source_x\",\n",
    "        \"type_source_x\",\n",
    "        \"country_source_x\",\n",
    "        \"company_source_x\",\n",
    "        \"name_source_x\",\n",
    "        \"2023_volume_x\",\n",
    "        \"max_buyer_flow (t)\",\n",
    "        \"CNUK_flow_proportion\",\n",
    "        \"country_target_y\",\n",
    "        \"company_target_y\",\n",
    "        \"name_target_y\",\n",
    "        \"2023_volume_y\",\n",
    "        \"max_competitor_flow (t)\",\n",
    "        \"2023_volume\",\n",
    "    ]\n",
    "].rename(\n",
    "    columns={\n",
    "        \"stage_source_x\": \"supplier_stage\",\n",
    "        \"type_source_x\": \"material_type\",\n",
    "        \"country_source_x\": \"supplier_country\",\n",
    "        \"company_source_x\": \"supplier_company\",\n",
    "        \"name_source_x\": \"supplier_facilityName\",\n",
    "        \"2023_volume_x\": \"product_flow (t)\",\n",
    "        \"country_target_y\": \"competitor_country\",\n",
    "        \"company_target_y\": \"competitor_company\",\n",
    "        \"name_target_y\": \"competitor_facilityName\",\n",
    "        \"2023_volume_y\": \"competitor_flow (t)\",\n",
    "        \"2023_volume\": \"total_supplier_flow (t)\",\n",
    "    }\n",
    ")\n",
    "\n",
    "company_summary[\"max_competitor_flow (t)\"] = np.minimum(\n",
    "    company_summary[\"max_competitor_flow (t)\"],\n",
    "    company_summary[\"total_supplier_flow (t)\"],\n",
    ")\n",
    "company_summary[\"max_buyer_flow (t)\"] = np.minimum(\n",
    "    company_summary[\"max_buyer_flow (t)\"], company_summary[\"total_supplier_flow (t)\"]\n",
    ")"
   ]
  },
  {
   "cell_type": "code",
   "execution_count": null,
   "id": "4d9a72ae42ef180d",
   "metadata": {
    "ExecuteTime": {
     "end_time": "2025-03-10T14:52:33.501797Z",
     "start_time": "2025-03-10T14:52:33.496522Z"
    }
   },
   "outputs": [],
   "source": [
    "# company_summary.to_csv('/Users/lukecullen/Library/CloudStorage/OneDrive-SharedLibraries-UniversityofCambridge/ENG_CCG - Y5/Non-ODA/P4 UK-China/supplier_data/Envision_AESC_Sunderland_Pouch_batteries_supplier_data.csv', index=False)"
   ]
  },
  {
   "cell_type": "code",
   "execution_count": null,
   "id": "335e5bf3",
   "metadata": {},
   "outputs": [],
   "source": []
  }
 ],
 "metadata": {
  "kernelspec": {
   "display_name": ".venv",
   "language": "python",
   "name": "python3"
  },
  "language_info": {
   "codemirror_mode": {
    "name": "ipython",
    "version": 3
   },
   "file_extension": ".py",
   "mimetype": "text/x-python",
   "name": "python",
   "nbconvert_exporter": "python",
   "pygments_lexer": "ipython3",
   "version": "3.12.2"
  }
 },
 "nbformat": 4,
 "nbformat_minor": 5
}
