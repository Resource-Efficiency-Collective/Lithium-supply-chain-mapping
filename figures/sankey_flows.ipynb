{
 "cells": [
  {
   "cell_type": "code",
   "execution_count": 1,
   "id": "initial_id",
   "metadata": {
    "ExecuteTime": {
     "end_time": "2025-03-28T20:36:03.369078Z",
     "start_time": "2025-03-28T20:36:03.038595Z"
    },
    "collapsed": true
   },
   "outputs": [],
   "source": [
    "import os\n",
    "import sys\n",
    "\n",
    "# Add project root to Python path\n",
    "project_root = os.path.abspath(os.path.join(os.getcwd(), \"..\"))\n",
    "if project_root not in sys.path:\n",
    "    sys.path.insert(0, project_root)\n",
    "\n",
    "\n",
    "import ast\n",
    "\n",
    "import numpy as np\n",
    "\n",
    "\n",
    "from utils.gcloud_utilities import *\n",
    "\n",
    "from utils.metadata import *\n",
    "\n",
    "from utils.preprocessing_utilities import (\n",
    "    import_operating_nodes,\n",
    "    expand_parameters_col_and_format,\n",
    ")"
   ]
  },
  {
   "cell_type": "code",
   "execution_count": 2,
   "id": "ae9f3f2d948ad205",
   "metadata": {
    "ExecuteTime": {
     "end_time": "2025-03-28T20:36:06.444026Z",
     "start_time": "2025-03-28T20:36:03.372123Z"
    }
   },
   "outputs": [
    {
     "name": "stderr",
     "output_type": "stream",
     "text": [
      "\u001b[32m2025-05-22 11:19:37.994\u001b[0m | \u001b[1mINFO    \u001b[0m | \u001b[36mutils.gcloud_utilities\u001b[0m:\u001b[36mfetch_gcs_bucket\u001b[0m:\u001b[36m16\u001b[0m - \u001b[1mFetching GCS bucket: lithium-datasets in project: critical-minerals'\u001b[0m\n"
     ]
    },
    {
     "name": "stderr",
     "output_type": "stream",
     "text": [
      "c:\\Users\\bapti\\OneDrive - University of Cambridge\\Documents\\critical-minerals\\.venv\\Lib\\site-packages\\google\\auth\\_default.py:76: UserWarning: Your application has authenticated using end user credentials from Google Cloud SDK without a quota project. You might receive a \"quota exceeded\" or \"API not enabled\" error. See the following page for troubleshooting: https://cloud.google.com/docs/authentication/adc-troubleshooting/user-creds. \n",
      "  warnings.warn(_CLOUD_SDK_CREDENTIALS_WARNING)\n",
      "\u001b[32m2025-05-22 11:19:42.860\u001b[0m | \u001b[1mINFO    \u001b[0m | \u001b[36mutils.gcloud_utilities\u001b[0m:\u001b[36mpull_from_gcs_csv\u001b[0m:\u001b[36m27\u001b[0m - \u001b[1mPulling data from preprocessed/benchmark/benchmark_nodes.csv in bucket lithium-datasets\u001b[0m\n",
      "\u001b[32m2025-05-22 11:19:46.416\u001b[0m | \u001b[1mINFO    \u001b[0m | \u001b[36mutils.gcloud_utilities\u001b[0m:\u001b[36mpull_from_gcs_csv\u001b[0m:\u001b[36m27\u001b[0m - \u001b[1mPulling data from preprocessed/benchmark/endUse_nodes.csv in bucket lithium-datasets\u001b[0m\n",
      "\u001b[32m2025-05-22 11:19:46.649\u001b[0m | \u001b[1mINFO    \u001b[0m | \u001b[36mutils.gcloud_utilities\u001b[0m:\u001b[36mpull_from_gcs_csv\u001b[0m:\u001b[36m27\u001b[0m - \u001b[1mPulling data from preprocessed/benchmark/edge_creation/benchmark_combined_edges.csv in bucket lithium-datasets\u001b[0m\n"
     ]
    }
   ],
   "source": [
    "year = \"2023\"\n",
    "\n",
    "# Load data\n",
    "bucket, nodes = import_operating_nodes(year)\n",
    "endUse_nodes = pull_from_gcs_csv(\n",
    "    bucket, GCLOUD_PREPROCESSED_DIR + BENCHMARK_PREPROCESSED_DIR + \"endUse_nodes.csv\"\n",
    ")\n",
    "\n",
    "edges = pull_from_gcs_csv(\n",
    "    bucket,\n",
    "    GCLOUD_PREPROCESSED_DIR\n",
    "    + BENCHMARK_PREPROCESSED_DIR\n",
    "    + BENCHMARK_EDGES_DIR\n",
    "    + BENCHMARK_EDGES_FILE,\n",
    ")\n",
    "\n",
    "edges[\"properties\"] = edges[\"properties\"].astype(str).apply(ast.literal_eval)\n",
    "dict_df = pd.json_normalize(edges[\"properties\"])\n",
    "edges = edges.drop(columns=[\"properties\"]).join(dict_df)\n",
    "\n",
    "nodes_df = pd.concat((nodes, endUse_nodes))\n",
    "\n",
    "nodes_df[\"type\"] = (\n",
    "    nodes_df[\"mine_type\"]\n",
    "    .fillna(nodes_df[\"process_type\"])\n",
    "    .fillna(nodes_df[\"product_type\"])\n",
    ")\n",
    "nodes_df = nodes_df.dropna(subset=[\"type\"])[[\"node_id\", \"type\", year]]\n",
    "\n",
    "stages_dict = {\n",
    "    \"mining\": [\"Brine\", \"Spodumene\", \"Mica\", \"Pegmatite\"],\n",
    "    \"carbonate\": [\"Lithium Carbonate\"],\n",
    "    \"hydroxide\": [\"Lithium Hydroxide\"],\n",
    "    \"cathode\": [\n",
    "        \"NCM mid nickel\",\n",
    "        \"LFP\",\n",
    "        \"4V Ni or Mn based\",\n",
    "        \"NCA\",\n",
    "        \"NCM high nickel\",\n",
    "        \"LCO\",\n",
    "        \"NCM low nickel\",\n",
    "        \"5V Mn based\",\n",
    "    ],\n",
    "    \"battery\": [\n",
    "        \"Cylindrical\",\n",
    "        \"Pouch\",\n",
    "        \"Cylindrical, Pouch\",\n",
    "        \"Pouch, Prismatic\",\n",
    "        \"Prismatic\",\n",
    "        \"Cylindrical, Prismatic\",\n",
    "        \"Cylindrical, Pouch, Prismatic\",\n",
    "    ],\n",
    "    \"end_use\": [\"EV\", \"ESS\", \"Portable\"],\n",
    "}\n",
    "\n",
    "nodes_df[\"stage\"] = nodes_df[\"type\"].map(\n",
    "    {item: cat for cat, items in stages_dict.items() for item in items}\n",
    ")\n",
    "\n",
    "nodes_df = nodes_df.dropna(subset=[\"stage\"])"
   ]
  },
  {
   "cell_type": "code",
   "execution_count": 3,
   "id": "8a5f124d14aeeec1",
   "metadata": {
    "ExecuteTime": {
     "end_time": "2025-03-28T20:36:06.604702Z",
     "start_time": "2025-03-28T20:36:06.516937Z"
    }
   },
   "outputs": [
    {
     "name": "stderr",
     "output_type": "stream",
     "text": [
      "\u001b[32m2025-05-22 11:19:50.122\u001b[0m | \u001b[1mINFO    \u001b[0m | \u001b[36mutils.gcloud_utilities\u001b[0m:\u001b[36mpull_from_gcs_excel\u001b[0m:\u001b[36m46\u001b[0m - \u001b[1mPulling data from raw/mappings/Li_unit_conversion.xlsx in bucket lithium-datasets\u001b[0m\n"
     ]
    }
   ],
   "source": [
    "inputs = edges.merge(\n",
    "    nodes_df[[\"node_id\", \"type\", \"stage\"]],\n",
    "    left_on=[\"source\", \"edge_type\"],\n",
    "    right_on=[\"node_id\", \"type\"],\n",
    "    how=\"left\",\n",
    ")\n",
    "outputs = inputs[\n",
    "    [\"stage\", \"type\", \"target\", \"2023_volume\", \"edge_type\", \"edge_destination\"]\n",
    "].merge(\n",
    "    nodes_df[[\"node_id\", \"stage\", \"type\"]],\n",
    "    left_on=\"target\",\n",
    "    right_on=\"node_id\",\n",
    "    how=\"left\",\n",
    "    suffixes=(\"_source\", \"_target\"),\n",
    ")\n",
    "outputs = outputs[\n",
    "    (outputs[\"edge_destination\"].isna())\n",
    "    | (outputs[\"edge_destination\"] == outputs[\"type_target\"])\n",
    "]\n",
    "all_flows = (\n",
    "    outputs[\n",
    "        [\n",
    "            \"stage_source\",\n",
    "            \"type_source\",\n",
    "            \"stage_target\",\n",
    "            \"type_target\",\n",
    "            \"2023_volume\",\n",
    "            \"edge_type\",\n",
    "        ]\n",
    "    ]\n",
    "    .groupby(\n",
    "        [\"stage_source\", \"type_source\", \"stage_target\", \"type_target\", \"edge_type\"]\n",
    "    )\n",
    "    .sum()\n",
    "    .reset_index()\n",
    ")\n",
    "\n",
    "stages = list(stages_dict.keys())\n",
    "next_stage_map = {stages[i]: stages[i + 1] for i in range(len(stages) - 1)}\n",
    "\n",
    "# 2. Keep only rows where stage_target matches next_stage_map[stage_source]\n",
    "real_flows = pd.concat(\n",
    "    (\n",
    "        all_flows[\n",
    "            all_flows[\"stage_source\"].map(next_stage_map) == all_flows[\"stage_target\"]\n",
    "        ],\n",
    "        all_flows[\n",
    "            (all_flows[\"stage_source\"] == \"mining\")\n",
    "            & (all_flows[\"stage_target\"] == \"hydroxide\")\n",
    "        ],\n",
    "        all_flows[\n",
    "            (all_flows[\"stage_source\"] == \"carbonate\")\n",
    "            & (all_flows[\"stage_target\"] == \"cathode\")\n",
    "        ],\n",
    "    )\n",
    ")\n",
    "\n",
    "unit_conversion = pull_from_gcs_excel(\n",
    "    bucket, MAPPINGS_DIR + \"Li_unit_conversion.xlsx\", sheet_name=\"Sheet1\"\n",
    ")\n",
    "\n",
    "converted_edges = real_flows.merge(\n",
    "    unit_conversion[[\"type\", \"edge_conversion\"]],\n",
    "    left_on=\"edge_type\",\n",
    "    right_on=\"type\",\n",
    "    how=\"left\",\n",
    ")\n",
    "converted_edges[\"2023_volume\"] = (\n",
    "    converted_edges[\"2023_volume\"] * converted_edges[\"edge_conversion\"]\n",
    ")\n",
    "\n",
    "converted_nodes = nodes_df.merge(\n",
    "    unit_conversion[[\"type\", \"node_conversion\"]],\n",
    "    left_on=\"type\",\n",
    "    right_on=\"type\",\n",
    "    how=\"left\",\n",
    ")\n",
    "converted_nodes[year] = converted_nodes[year] * converted_nodes[\"node_conversion\"]"
   ]
  },
  {
   "cell_type": "code",
   "execution_count": 5,
   "id": "badb8ea6a906b724",
   "metadata": {
    "ExecuteTime": {
     "end_time": "2025-03-28T20:36:06.650892Z",
     "start_time": "2025-03-28T20:36:06.642170Z"
    }
   },
   "outputs": [],
   "source": [
    "# Balance with total outputs\n",
    "totals = converted_nodes.groupby(\"type\").sum()[year].reset_index()\n",
    "sources = (\n",
    "    converted_edges.groupby([\"stage_source\", \"type_source\"])\n",
    "    .sum()[year + \"_volume\"]\n",
    "    .reset_index()\n",
    ")\n",
    "targets = (\n",
    "    converted_edges.groupby([\"stage_target\", \"type_target\"])\n",
    "    .sum()[year + \"_volume\"]\n",
    "    .reset_index()\n",
    ")\n",
    "\n",
    "losses = totals.merge(sources, left_on=\"type\", right_on=\"type_source\")\n",
    "losses[year + \"_volume\"] = losses[year] - losses[year + \"_volume\"]\n",
    "losses[\"stage_target\"] = losses[\"stage_source\"]\n",
    "losses[\"type_target\"] = [\n",
    "    i.capitalize() + \" Losses & Stock\" for i in losses[\"stage_source\"]\n",
    "]\n",
    "losses[\"edge_type\"] = losses[\"type_source\"]\n",
    "\n",
    "from_stocks = totals.merge(targets, left_on=\"type\", right_on=\"type_target\")\n",
    "from_stocks[year + \"_volume\"] = from_stocks[year] - from_stocks[year + \"_volume\"]\n",
    "from_stocks[\"stage_source\"] = from_stocks[\"stage_target\"]\n",
    "from_stocks[\"type_source\"] = [\n",
    "    i.capitalize() + \" Stock\" for i in from_stocks[\"stage_target\"]\n",
    "]\n",
    "from_stocks[\"edge_type\"] = from_stocks[\"type_target\"]\n",
    "\n",
    "extra_losses = losses.merge(from_stocks, on=\"type\")\n",
    "extra_losses[year + \"_volume_x\"] = np.where(\n",
    "    extra_losses[year + \"_volume_y\"] < 0,\n",
    "    extra_losses[year + \"_volume_x\"] - extra_losses[year + \"_volume_y\"],\n",
    "    extra_losses[year + \"_volume_x\"],\n",
    ")\n",
    "\n",
    "losses = losses.merge(extra_losses[[\"type\", year + \"_volume_x\"]], on=\"type\")\n",
    "losses[year + \"_volume\"] = losses[year + \"_volume_x\"]\n",
    "losses = losses.drop(columns=[year + \"_volume_x\"])\n",
    "\n",
    "from_stocks[year + \"_volume\"] = np.where(\n",
    "    from_stocks[year + \"_volume\"] < 0, 0, from_stocks[year + \"_volume\"]\n",
    ")\n",
    "\n",
    "converted_edges = pd.concat((converted_edges, losses, from_stocks))"
   ]
  },
  {
   "cell_type": "code",
   "execution_count": 6,
   "id": "2005cd45c6fab477",
   "metadata": {
    "ExecuteTime": {
     "end_time": "2025-03-27T15:44:43.907015Z",
     "start_time": "2025-03-27T15:44:43.675693Z"
    }
   },
   "outputs": [
    {
     "name": "stderr",
     "output_type": "stream",
     "text": [
      "C:\\Users\\bapti\\AppData\\Local\\Temp\\ipykernel_32808\\3502303164.py:20: MatplotlibDeprecationWarning: The get_cmap function was deprecated in Matplotlib 3.7 and will be removed in 3.11. Use ``matplotlib.colormaps[name]`` or ``matplotlib.colormaps.get_cmap()`` or ``pyplot.get_cmap()`` instead.\n",
      "  cmap = plt.cm.get_cmap(\"tab10\", len(unique_stages) + 1)\n"
     ]
    }
   ],
   "source": [
    "import matplotlib.colors as mcolors\n",
    "import matplotlib.pyplot as plt\n",
    "\n",
    "mapping = {\"carbonate\": \"processing\", \"hydroxide\": \"processing\"}\n",
    "\n",
    "outputs[\"stage_source\"] = (\n",
    "    outputs[\"stage_source\"].map(mapping).fillna(outputs[\"stage_source\"])\n",
    ")\n",
    "\n",
    "converted_edges[\"stage_source\"] = (\n",
    "    converted_edges[\"stage_source\"].map(mapping).fillna(converted_edges[\"stage_source\"])\n",
    ")\n",
    "\n",
    "unique_stages = list(outputs[\"stage_source\"].unique()) + [\n",
    "    \"end_use\"\n",
    "]  # converted_edges[\"stage_source\"].unique()\n",
    "\n",
    "# e.g. \"tab10\" has 10 distinct colors. You can choose other colormaps:\n",
    "# \"tab20\", \"Set1\", \"hsv\", \"Paired\", etc.\n",
    "cmap = plt.cm.get_cmap(\"tab10\", len(unique_stages) + 1)\n",
    "\n",
    "# stage_base_colors: stage_source → RGBA tuple\n",
    "stage_base_colors = {}\n",
    "for i, stage in enumerate(unique_stages):\n",
    "    # cmap(i) returns RGBA in [0, 1]\n",
    "    stage_base_colors[stage] = cmap(i if i < len(unique_stages) - 1 else i + 1)\n",
    "\n",
    "\n",
    "# ----------------------------------------------------------------------------\n",
    "# 3) HELPER FUNCTION TO LIGHTEN/DARKEN A COLOR\n",
    "# ----------------------------------------------------------------------------\n",
    "def adjust_color(rgb, amount=1.2):\n",
    "    \"\"\"\n",
    "    Lightens or darkens an RGB color by multiplying (if >1 => lighten)\n",
    "    or reducing (if <1 => darken) the R, G, B values.\n",
    "\n",
    "    rgb is a tuple (r, g, b) in [0,1].\n",
    "    amount is the factor by which to adjust (e.g. 1.2 ~ 20% lighter).\n",
    "    \"\"\"\n",
    "    r, g, b = rgb\n",
    "    r_new = min(1, max(0, r * amount))\n",
    "    g_new = min(1, max(0, g * amount))\n",
    "    b_new = min(1, max(0, b * amount))\n",
    "    return (r_new, g_new, b_new)\n",
    "\n",
    "\n",
    "# ----------------------------------------------------------------------------\n",
    "# 4) BUILD A DICT (stage_source, edge_type) -> HEX COLOR CODE\n",
    "# ----------------------------------------------------------------------------\n",
    "color_map = {}\n",
    "\n",
    "for stage in unique_stages:\n",
    "    # Base RGBA for this stage\n",
    "    base_rgba = stage_base_colors[stage]\n",
    "    # We'll use only RGB part, ignoring alpha\n",
    "    base_rgb = base_rgba[:3]\n",
    "\n",
    "    # Find all edge_types within this stage_source\n",
    "    edges_for_stage = converted_edges.loc[\n",
    "        converted_edges[\"stage_source\"] == stage, \"edge_type\"\n",
    "    ].unique()\n",
    "    n_edges = len(edges_for_stage)\n",
    "\n",
    "    # We'll create n distinct brightness adjustments between 0.7 and 1.4\n",
    "    # so each edge_type in the same stage_source gets a unique shade.\n",
    "    amounts = np.linspace(0.7, 1.4, n_edges)\n",
    "\n",
    "    for edge, amt in zip(edges_for_stage, amounts):\n",
    "        adjusted_rgb = adjust_color(base_rgb, amount=amt)\n",
    "        # Convert to hex (e.g. \"#1f77b4\")\n",
    "        hex_color = mcolors.to_hex(adjusted_rgb)\n",
    "        color_map[(stage, edge)] = hex_color\n",
    "\n",
    "# ----------------------------------------------------------------------------\n",
    "# 5) CREATE A NEW COLUMN IN THE DATAFRAME WITH THESE HEX CODES\n",
    "# ----------------------------------------------------------------------------\n",
    "converted_edges[\"color_hex\"] = [\n",
    "    color_map[(row[\"stage_source\"], row[\"edge_type\"])]\n",
    "    for _, row in converted_edges.iterrows()\n",
    "]"
   ]
  },
  {
   "cell_type": "code",
   "execution_count": null,
   "id": "ee9b24a40b85c0e7",
   "metadata": {
    "ExecuteTime": {
     "end_time": "2025-03-27T15:44:47.369848Z",
     "start_time": "2025-03-27T15:44:47.361645Z"
    }
   },
   "outputs": [],
   "source": [
    "# converted_edges['2023_volume'] = converted_edges['2023_volume']/1E3 # Convert to kt\n",
    "\n",
    "converted_edges[\"SankeyMatic\"] = converted_edges.apply(\n",
    "    lambda row: f\"{row['type_source']} [{row['2023_volume']:.1f}] {row['type_target']} {row['color_hex']}\",\n",
    "    axis=1,\n",
    ").str.replace(\", \", \"/\")\n",
    "\n",
    "output_path = \"/figures/main_results/\"\n",
    "filename = \"P3c_sankeyMatic\"\n",
    "\n",
    "#   \"/Users/lukecullen/Library/CloudStorage/OneDrive-UniversityofCambridge/Post-doc/P3c/outputs/.txt\",\n",
    "converted_edges[\"SankeyMatic\"].to_csv(\n",
    "    project_root + output_path + filename + \".txt\",\n",
    "    index=False,\n",
    "    header=False,\n",
    ")"
   ]
  },
  {
   "cell_type": "code",
   "execution_count": 12,
   "id": "af7d078c64b1686b",
   "metadata": {
    "ExecuteTime": {
     "end_time": "2025-03-27T16:16:30.490703Z",
     "start_time": "2025-03-27T16:16:30.486249Z"
    }
   },
   "outputs": [
    {
     "data": {
      "text/plain": [
       "type_target\n",
       "ESS         0.141287\n",
       "EV          0.785234\n",
       "Portable    0.073478\n",
       "Name: 2023_volume, dtype: float64"
      ]
     },
     "execution_count": 12,
     "metadata": {},
     "output_type": "execute_result"
    }
   ],
   "source": [
    "eu = converted_edges[converted_edges[\"stage_target\"] == \"end_use\"]\n",
    "eu.groupby(\"type_target\").sum()[\"2023_volume\"] / eu[\"2023_volume\"].sum()"
   ]
  },
  {
   "cell_type": "code",
   "execution_count": 13,
   "id": "a75ef2bfe080130",
   "metadata": {
    "ExecuteTime": {
     "end_time": "2025-03-27T15:51:13.124806Z",
     "start_time": "2025-03-27T15:51:13.121895Z"
    }
   },
   "outputs": [
    {
     "data": {
      "text/plain": [
       "np.float64(97279.83649707901)"
      ]
     },
     "execution_count": 13,
     "metadata": {},
     "output_type": "execute_result"
    }
   ],
   "source": [
    "eu[\"2023_volume\"].sum()"
   ]
  },
  {
   "cell_type": "code",
   "execution_count": 14,
   "id": "6668e79e7b5993e3",
   "metadata": {
    "ExecuteTime": {
     "end_time": "2025-03-27T15:48:28.448741Z",
     "start_time": "2025-03-27T15:48:28.445310Z"
    }
   },
   "outputs": [
    {
     "data": {
      "text/plain": [
       "type_source\n",
       "Cylindrical                      0.151191\n",
       "Cylindrical, Pouch               0.066582\n",
       "Cylindrical, Pouch, Prismatic    0.000245\n",
       "Cylindrical, Prismatic           0.011065\n",
       "End_use Stock                    0.000000\n",
       "Pouch                            0.165830\n",
       "Pouch, Prismatic                 0.007762\n",
       "Prismatic                        0.597325\n",
       "Name: 2023_volume, dtype: float64"
      ]
     },
     "execution_count": 14,
     "metadata": {},
     "output_type": "execute_result"
    }
   ],
   "source": [
    "eu = converted_edges[(converted_edges[\"stage_target\"] == \"end_use\")]\n",
    "eu.groupby(\"type_source\").sum()[\"2023_volume\"] / eu[\"2023_volume\"].sum()"
   ]
  },
  {
   "cell_type": "code",
   "execution_count": 15,
   "id": "e045fe5d44087a9a",
   "metadata": {
    "ExecuteTime": {
     "end_time": "2025-03-27T15:52:00.070771Z",
     "start_time": "2025-03-27T15:52:00.065435Z"
    }
   },
   "outputs": [
    {
     "data": {
      "text/plain": [
       "type_source\n",
       "Brine        0.426810\n",
       "Mica         0.098294\n",
       "Pegmatite    0.002908\n",
       "Spodumene    0.471988\n",
       "Name: 2023_volume, dtype: float64"
      ]
     },
     "execution_count": 15,
     "metadata": {},
     "output_type": "execute_result"
    }
   ],
   "source": [
    "rms = converted_edges[(converted_edges[\"stage_source\"] == \"mining\")]\n",
    "rms.groupby(\"type_source\").sum()[\"2023_volume\"] / rms[\"2023_volume\"].sum()"
   ]
  },
  {
   "cell_type": "code",
   "execution_count": 16,
   "id": "e029cb6bc985f519",
   "metadata": {
    "ExecuteTime": {
     "end_time": "2025-03-27T15:52:04.547869Z",
     "start_time": "2025-03-27T15:52:04.544103Z"
    }
   },
   "outputs": [
    {
     "data": {
      "text/plain": [
       "np.float64(161527.93850317987)"
      ]
     },
     "execution_count": 16,
     "metadata": {},
     "output_type": "execute_result"
    }
   ],
   "source": [
    "rms[\"2023_volume\"].sum()"
   ]
  },
  {
   "cell_type": "code",
   "execution_count": 17,
   "id": "ca482c83a7ab27c7",
   "metadata": {},
   "outputs": [],
   "source": [
    "caths = converted_edges[(converted_edges[\"stage_source\"] == \"cathode\")]"
   ]
  },
  {
   "cell_type": "code",
   "execution_count": 18,
   "id": "70302b434fc3911d",
   "metadata": {
    "ExecuteTime": {
     "end_time": "2025-03-27T15:52:29.141337Z",
     "start_time": "2025-03-27T15:52:29.139388Z"
    }
   },
   "outputs": [
    {
     "data": {
      "text/plain": [
       "np.float64(0.6022477436320649)"
      ]
     },
     "execution_count": 18,
     "metadata": {},
     "output_type": "execute_result"
    }
   ],
   "source": [
    "eu[\"2023_volume\"].sum() / rms[\"2023_volume\"].sum()"
   ]
  },
  {
   "cell_type": "code",
   "execution_count": 19,
   "id": "14daf08d79c6e9bc",
   "metadata": {
    "ExecuteTime": {
     "end_time": "2025-03-27T16:09:42.387029Z",
     "start_time": "2025-03-27T16:09:42.382597Z"
    }
   },
   "outputs": [],
   "source": [
    "caths = converted_edges[(converted_edges[\"stage_source\"] == \"cathode\")]"
   ]
  },
  {
   "cell_type": "code",
   "execution_count": 20,
   "id": "1d7d3f75fb05ef6a",
   "metadata": {
    "ExecuteTime": {
     "end_time": "2025-03-27T16:10:05.379542Z",
     "start_time": "2025-03-27T16:10:05.376318Z"
    }
   },
   "outputs": [
    {
     "data": {
      "text/plain": [
       "type_source\n",
       "4V Ni or Mn based    0.041727\n",
       "5V Mn based          0.000000\n",
       "Cathode Stock        0.129612\n",
       "LCO                  0.039082\n",
       "LFP                  0.330350\n",
       "NCA                  0.064549\n",
       "NCM high nickel      0.195814\n",
       "NCM low nickel       0.006606\n",
       "NCM mid nickel       0.192259\n",
       "Name: 2023_volume, dtype: float64"
      ]
     },
     "execution_count": 20,
     "metadata": {},
     "output_type": "execute_result"
    }
   ],
   "source": [
    "caths.groupby(\"type_source\").sum()[\"2023_volume\"] / caths[\"2023_volume\"].sum()"
   ]
  },
  {
   "cell_type": "code",
   "execution_count": 21,
   "id": "63ad18a92a4dc00c",
   "metadata": {
    "ExecuteTime": {
     "end_time": "2025-03-27T16:13:29.428046Z",
     "start_time": "2025-03-27T16:13:29.425929Z"
    }
   },
   "outputs": [
    {
     "data": {
      "text/plain": [
       "0.394679"
      ]
     },
     "execution_count": 21,
     "metadata": {},
     "output_type": "execute_result"
    }
   ],
   "source": [
    "0.192259 + 0.006606 + 0.195814"
   ]
  },
  {
   "cell_type": "code",
   "execution_count": 22,
   "id": "f9666b9a9eadabec",
   "metadata": {
    "ExecuteTime": {
     "end_time": "2025-03-27T16:18:01.880759Z",
     "start_time": "2025-03-27T16:18:01.878669Z"
    }
   },
   "outputs": [
    {
     "data": {
      "text/plain": [
       "np.float64(3.542472469942064)"
      ]
     },
     "execution_count": 22,
     "metadata": {},
     "output_type": "execute_result"
    }
   ],
   "source": [
    "# Petravatzi\n",
    "eu[\"2023_volume\"].sum() / (12334 + 4628 + 934 + 1543 + 4855 + 617 + 2241 + 309)"
   ]
  },
  {
   "cell_type": "code",
   "execution_count": 23,
   "id": "f7abbeb8b3eb68e5",
   "metadata": {
    "ExecuteTime": {
     "end_time": "2025-03-27T16:21:30.281130Z",
     "start_time": "2025-03-27T16:21:30.278822Z"
    }
   },
   "outputs": [
    {
     "data": {
      "text/plain": [
       "1.3062806401681286"
      ]
     },
     "execution_count": 23,
     "metadata": {},
     "output_type": "execute_result"
    }
   ],
   "source": [
    "7147.967663 / (4855 + 617)"
   ]
  },
  {
   "cell_type": "code",
   "execution_count": 24,
   "id": "c06bd4797559e877",
   "metadata": {
    "ExecuteTime": {
     "end_time": "2025-03-27T16:19:44.824881Z",
     "start_time": "2025-03-27T16:19:44.822802Z"
    }
   },
   "outputs": [
    {
     "data": {
      "text/plain": [
       "4.503447200507016"
      ]
     },
     "execution_count": 24,
     "metadata": {},
     "output_type": "execute_result"
    }
   ],
   "source": [
    "# EV\n",
    "76387.471415 / (12334 + 4628)"
   ]
  },
  {
   "cell_type": "code",
   "execution_count": 25,
   "id": "53d18eb7ecd3bcd",
   "metadata": {
    "ExecuteTime": {
     "end_time": "2025-03-27T16:20:56.014881Z",
     "start_time": "2025-03-27T16:20:56.012928Z"
    }
   },
   "outputs": [
    {
     "data": {
      "text/plain": [
       "5.5488080012111425"
      ]
     },
     "execution_count": 25,
     "metadata": {},
     "output_type": "execute_result"
    }
   ],
   "source": [
    "# ESS\n",
    "13744.397419 / (934 + 1543)"
   ]
  },
  {
   "cell_type": "code",
   "execution_count": null,
   "id": "e9bf835e0011d0f2",
   "metadata": {},
   "outputs": [],
   "source": []
  }
 ],
 "metadata": {
  "kernelspec": {
   "display_name": ".venv",
   "language": "python",
   "name": "python3"
  },
  "language_info": {
   "codemirror_mode": {
    "name": "ipython",
    "version": 3
   },
   "file_extension": ".py",
   "mimetype": "text/x-python",
   "name": "python",
   "nbconvert_exporter": "python",
   "pygments_lexer": "ipython3",
   "version": "3.12.2"
  }
 },
 "nbformat": 4,
 "nbformat_minor": 5
}
